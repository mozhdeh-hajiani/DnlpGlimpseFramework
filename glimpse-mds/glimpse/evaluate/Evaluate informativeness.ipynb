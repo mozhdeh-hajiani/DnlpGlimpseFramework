{
 "cells": [
  {
   "cell_type": "code",
   "execution_count": null,
   "id": "38be7bab-8a42-49dd-8976-2755ee84edbe",
   "metadata": {
    "tags": []
   },
   "outputs": [],
   "source": [
    "import pandas as pd\n",
    "import numpy as np\n",
    "from pathlib import Path\n",
    "import pickle as pk\n",
    "import nltk\n",
    "import seaborn as sns\n",
    "import matplotlib.pyplot as plt\n",
    "\n",
    "\n",
    "\n",
    "export_summaries_path = Path('output/summaries/methods_per_text')\n",
    "export_summaries_path.mkdir(parents=True, exist_ok=True)"
   ]
  },
  {
   "cell_type": "code",
   "execution_count": null,
   "id": "1c24ddc1-978e-4a24-8fdb-e48b2848edd0",
   "metadata": {
    "tags": []
   },
   "outputs": [],
   "source": [
    "\n",
    "dfs = []\n",
    "for file in export_summaries_path.glob('*.csv'):\n",
    "    df = pd.read_csv(file)\n",
    "    generation_method, dataset = file.stem.split('-_-')[:2]\n",
    "    \n",
    "    df['metadata/Generation'] = generation_method\n",
    "    df['metadata/Dataset'] = dataset\n",
    "    \n",
    "    dfs.append(df)\n",
    "    \n",
    "df = pd.concat(dfs)\n",
    "\n",
    "df = df.drop([c for c in df.columns if \"Unnamed:\" in c], axis=1)\n",
    "\n",
    "del dfs\n",
    "\n",
    "def replace_abstractive(x):\n",
    "    if \"abstractive\" in x:\n",
    "        return \"extractive_sentences\"\n",
    "    else:\n",
    "        return x\n",
    "\n",
    "df['metadata/Generation'] = df['metadata/Generation'].apply(replace_abstractive)\n",
    "\n"
   ]
  },
  {
   "cell_type": "code",
   "execution_count": null,
   "id": "582af03f-ac60-4644-88d7-28caf84bb552",
   "metadata": {
    "tags": []
   },
   "outputs": [],
   "source": [
    "df = df[~(df['Method'].str.contains('Lead')).fillna(False)]\n",
    "\n"
   ]
  },
  {
   "cell_type": "code",
   "execution_count": null,
   "id": "099fda3b-137c-4e3b-bb70-933ad183d378",
   "metadata": {
    "tags": []
   },
   "outputs": [],
   "source": []
  },
  {
   "cell_type": "code",
   "execution_count": null,
   "id": "7d9babd3-a409-409c-848e-db6a3f846d6f",
   "metadata": {
    "tags": []
   },
   "outputs": [],
   "source": [
    "ddf = df.copy()\n",
    "ddf['proba_of_success'] = ddf['proba_of_success'].apply(np.exp)\n",
    "\n",
    "discriminativity = ddf.groupby(['metadata/Generation', 'metadata/reranking_model', 'Method'])[['proba_of_success', 'LM Perplexity']].agg(['mean']).droplevel(1, axis=1).sort_values('proba_of_success', ascending=False).reset_index()\n",
    "discriminativity"
   ]
  },
  {
   "cell_type": "code",
   "execution_count": null,
   "id": "d1bffd58-0eed-4007-bcca-cd0a6dfdcd1d",
   "metadata": {
    "tags": []
   },
   "outputs": [],
   "source": [
    "\n",
    "ddf = ddf.sort_values('proba_of_success', ascending=False)\n",
    "sns.catplot(data=ddf, y='proba_of_success', x='Method', hue=\"metadata/Generation\", kind='bar', col='metadata/reranking_model')"
   ]
  },
  {
   "cell_type": "code",
   "execution_count": null,
   "id": "6684f99b-68d8-4a4f-a1f7-8943f9755bb7",
   "metadata": {
    "tags": []
   },
   "outputs": [],
   "source": [
    "\n",
    "fig, ax = plt.subplots(1, 1)\n",
    "\n",
    "paretto = get_pareto_points(discriminativity[['proba_of_success', 'LM Perplexity']].values)\n",
    "\n",
    "ax.plot(paretto[:, 1], paretto[:, 0], c='purple', linewidth=5, linestyle=\"--\", label=\"Pareto front\")\n",
    "sns.scatterplot(data=discriminativity, y='proba_of_success', x='LM Perplexity', hue=\"Method\", s=200, alpha=0.8, style='metadata/reranking_model')\n",
    "plt.xlim(-70, 0)\n",
    "\n",
    "        \n",
    "\n",
    "def get_pareto_points(data):\n",
    "    # data : [N, 2]\n",
    "    \n",
    "    optima = []\n",
    "    for p in data:\n",
    "        x, y = p\n",
    "        if len([p2 for p2 in data if p2[0] > p[0] and p2[1] > p[1]]) == 0:\n",
    "            optima.append(p)\n",
    "            \n",
    "    return np.array(optima)\n",
    "\n",
    "\n",
    "\n",
    "            \n",
    "\n",
    "    \n",
    "    \n",
    "    "
   ]
  },
  {
   "cell_type": "code",
   "execution_count": null,
   "id": "6f6d6a10-e13e-4d44-ace3-dae5de0f362c",
   "metadata": {
    "tags": []
   },
   "outputs": [],
   "source": []
  },
  {
   "cell_type": "code",
   "execution_count": null,
   "id": "6f2b4cc9-8584-463e-b130-6c48c85e2665",
   "metadata": {
    "tags": []
   },
   "outputs": [],
   "source": []
  },
  {
   "cell_type": "code",
   "execution_count": null,
   "id": "d49c5df4-23a4-473c-81a6-b8928ffdf8af",
   "metadata": {},
   "outputs": [],
   "source": [
    "\n",
    "ddf = df.copy().drop('level_0', axis=1)\n",
    "ddf['proba_of_success'] = -ddf['proba_of_success']\n",
    "ddf['LM Perplexity'] = -ddf['LM Perplexity']\n",
    "ddf = ddf.reset_index()\n",
    "\n",
    "\n",
    "\n",
    "\n",
    "sns.displot(data=ddf, x='LM Perplexity', y='proba_of_success', hue=\"Method\", kind='kde')\n",
    "# plt.xscale('log')\n",
    "#plt.yscale('log')\n",
    "\n",
    "plt.xlim(0, 100)\n",
    "plt.ylim(-2, 3)\n",
    "\n"
   ]
  },
  {
   "cell_type": "code",
   "execution_count": null,
   "id": "d1d1235a-7bff-4e51-ad43-20dd5d1a0734",
   "metadata": {
    "tags": []
   },
   "outputs": [],
   "source": [
    "sns.scatterplot(data=df, x='LM Perplexity', y='proba_of_success', hue=\"Method\")\n"
   ]
  },
  {
   "cell_type": "code",
   "execution_count": null,
   "id": "faf6ec08-feca-4106-bf51-7a3ffb438267",
   "metadata": {},
   "outputs": [],
   "source": []
  },
  {
   "cell_type": "code",
   "execution_count": null,
   "id": "e0805bfe-660f-4d1f-a28a-cf09220b5da3",
   "metadata": {},
   "outputs": [],
   "source": []
  },
  {
   "cell_type": "code",
   "execution_count": null,
   "id": "5235f917-81b5-40ca-9c62-cb63a8aaaffb",
   "metadata": {},
   "outputs": [],
   "source": []
  }
 ],
 "metadata": {
  "kernelspec": {
   "display_name": "pytorch-gpu-2.0.0_py3.10.9",
   "language": "python",
   "name": "module-conda-env-pytorch-gpu-2.0.0_py3.10.9"
  },
  "language_info": {
   "codemirror_mode": {
    "name": "ipython",
    "version": 3
   },
   "file_extension": ".py",
   "mimetype": "text/x-python",
   "name": "python",
   "nbconvert_exporter": "python",
   "pygments_lexer": "ipython3",
   "version": "3.10.9"
  }
 },
 "nbformat": 4,
 "nbformat_minor": 5
}
