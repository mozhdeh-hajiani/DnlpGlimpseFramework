{
 "cells": [
  {
   "cell_type": "code",
   "execution_count": null,
   "id": "64c5b118-5a32-4220-89f2-4e3ccd7a28d2",
   "metadata": {
    "tags": []
   },
   "outputs": [],
   "source": [
    "import matplotlib as mpl\n",
    "# Use the pgf backend (must be set before pyplot imported)\n",
    "mpl.use('pgf')\n",
    "\n",
    "import pandas as pd\n",
    "import numpy as np\n",
    "import matplotlib.pyplot as plt\n",
    "import seaborn as sns\n",
    "import re\n",
    "from pathlib import Path"
   ]
  },
  {
   "cell_type": "code",
   "outputs": [],
   "source": [],
   "metadata": {
    "collapsed": false
   },
   "id": "7893116c24574642"
  },
  {
   "cell_type": "code",
   "outputs": [],
   "source": [
    "# use pgf backend\n",
    "plt.style.use('seaborn-paper')\n"
   ],
   "metadata": {
    "collapsed": false
   },
   "id": "f3dc93e0b2eb9894"
  },
  {
   "cell_type": "code",
   "execution_count": null,
   "id": "3806928d-0624-4d9f-905f-3bf41b9725f1",
   "metadata": {
    "tags": []
   },
   "outputs": [],
   "source": [
    "sumy_individual_path = Path('output/summaries/sumy_individual/')\n",
    "ours_individual_path = Path('output/summaries/methods_reviews_individual/')\n",
    "\n",
    "TABLE_PATH = Path(\"../../../EMIRR/papers/rsa_multi_document/tables/\")\n",
    "FIGURE = Path(\"../../../EMIRR/papers/rsa_multi_document/figures/\")\n",
    "\n",
    "# make sure the folder exists\n",
    "TABLE_PATH.mkdir(parents=True, exist_ok=True)\n",
    "FIGURE.mkdir(parents=True, exist_ok=True)"
   ]
  },
  {
   "cell_type": "code",
   "execution_count": null,
   "id": "141a8192-773a-40af-a891-620a6ab81efd",
   "metadata": {
    "tags": []
   },
   "outputs": [],
   "source": [
    "\n",
    "dfs = []\n",
    "for file in sumy_individual_path.glob('*.csv'):\n",
    "    df = pd.read_csv(file)\n",
    "    method = file.stem.split('-_-')[1]\n",
    "    \n",
    "    sumy = file.stem.split('-_-')[-1].split('_')\n",
    "    if len(sumy) > 1:\n",
    "        sentence_count = int(sumy[-1])\n",
    "        df['metadata/sentence_count'] = sentence_count\n",
    "\n",
    "    # df['Method'] = method\n",
    "    dfs.append(df)\n",
    "    \n",
    "    \n",
    "for file in ours_individual_path.glob('*.csv'):\n",
    "    generation_method, dataset, generation_params, date, rsa_param, rsa_ranking_model, method = file.stem.split('-_-')\n",
    "    \n",
    "    method, n = \"_\".join( method.split('_')[:-1]), method.split('_')[-1]\n",
    "    \n",
    "    if \"metadata/method\" not in df.columns:\n",
    "        df['metadata/method'] = method\n",
    "    \n",
    "#     reranking_model = rsa_ranking_model[len(\"rsa_reranked-\"):]\n",
    "    \n",
    "#     df['Ranking Model'] = reranking_model\n",
    "#     df['Method'] = method\n",
    "#     df['N'] = int(n) if n != \"based\" else 3 \n",
    "    df['Generation Method'] = generation_method\n",
    "    \n",
    "    df = pd.read_csv(file)\n",
    "    dfs.append(df)\n",
    "        \n",
    "df = pd.concat(dfs)\n",
    "del dfs\n",
    "\n",
    "df = df.drop([c for c in df.columns if \"Unnamed\" in c], axis=1)\n",
    "\n"
   ]
  },
  {
   "cell_type": "code",
   "outputs": [],
   "source": [
    "\n",
    "df['metadata/method'] = df['metadata/method'].fillna('N/A')\n",
    "df = df[~(df[\"metadata/method\"].str.contains('lead'))]\n",
    "df = df[~(df[\"metadata/method\"].str.contains('Lead'))]\n",
    "\n"
   ],
   "metadata": {
    "collapsed": false
   },
   "id": "804fb4bacf2686d4",
   "execution_count": null
  },
  {
   "cell_type": "code",
   "execution_count": null,
   "id": "419db7d5-b90b-47a3-9c25-f39eff337849",
   "metadata": {
    "tags": []
   },
   "outputs": [],
   "source": [
    "def fix_generation(x):\n",
    "    if x == \"abstractive_sentences\":\n",
    "        return \"extractive_sentences\"\n",
    "    else:\n",
    "        return x\n",
    "\n",
    "\n",
    "df['Generation Method'] = df[\"Generation Method\"].apply(fix_generation)"
   ]
  },
  {
   "cell_type": "code",
   "execution_count": null,
   "id": "4a157db9-e408-46e8-9499-2751e4cbe7e4",
   "metadata": {
    "tags": []
   },
   "outputs": [],
   "source": [
    "df['N'] = (df['metadata/n_sentences'].fillna(0) + df['metadata/sentence_count'].fillna(0)).apply(int)\n",
    "\n",
    "def fix_methods(x):\n",
    "\n",
    "    if \"consensus\" in str(x):\n",
    "        return \"Agreement\"\n",
    "    elif \"rsa\" in str(x):\n",
    "        return \"Speaker+Agreement\"\n",
    "    else:\n",
    "        return x\n",
    "    \n",
    "df['metadata/method'] = df['metadata/method'].apply(fix_methods)\n",
    "\n"
   ]
  },
  {
   "cell_type": "code",
   "execution_count": null,
   "id": "4b926a30-f4be-4de9-b921-1eac3145e87e",
   "metadata": {
    "tags": []
   },
   "outputs": [],
   "source": [
    "df['metadata/sentence_count'].unique()"
   ]
  },
  {
   "cell_type": "code",
   "execution_count": null,
   "id": "0451f550-0522-40e9-a64a-551337ae47f6",
   "metadata": {
    "tags": []
   },
   "outputs": [],
   "source": [
    "\n",
    "    "
   ]
  },
  {
   "cell_type": "code",
   "execution_count": null,
   "id": "7d213f27-9b7f-4893-b2c1-251715401db5",
   "metadata": {
    "tags": []
   },
   "outputs": [],
   "source": [
    "\n",
    "metric= 'SHMetric/Main ideas/proba_1'\n",
    "\n",
    "SHMetric = df.columns[df.columns.str.contains('SHMetric') & df.columns.str.contains('proba_1')].tolist()\n",
    "\n",
    "toplot = df.copy()\n",
    "toplot['metadata/reranking_model'] = toplot['metadata/reranking_model'].fillna('N/A')\n",
    "toplot['Generation Method'] = toplot['Generation Method'].fillna('N/A')\n",
    "\n",
    "\n",
    "toplot = toplot.groupby([\"metadata/method\", \"id\", \"Generation Method\", \"metadata/reranking_model\"]).mean()\n",
    "idx = toplot.groupby([\"metadata/method\", \"id\", \"Generation Method\"])[metric].idxmax()\n",
    "\n",
    "toplot = toplot.loc[idx].reset_index()\n",
    "\n",
    "avg = toplot.groupby([\"metadata/method\"]).agg(['mean', 'std'])\n",
    "avg = avg[SHMetric]\n",
    "\n",
    "display(avg)\n",
    "\n",
    "# rename columns Consiness, Main ideas, Repetition\n",
    "avg.columns = pd.MultiIndex.from_tuples([(f'{c[0].split(\"/\")[1]}', c[1]) for c in avg.columns])\n",
    "\n",
    "def map_ours(x):\n",
    "    if \"Agreement\" in x:\n",
    "        return \"Ours\"\n",
    "    else:\n",
    "        return \"Bas.\"\n",
    "\n",
    "\n",
    "avg = avg.groupby([\"metadata/method\"]).mean()\n",
    "\n",
    "avg['Ours'] = avg.index.get_level_values(0).map(map_ours)\n",
    "\n",
    "\n",
    "avg = avg.reset_index().rename(columns={'metadata/method': 'Method'})\n",
    "avg = avg.set_index(['Ours', 'Method'])\n",
    "avg = avg.sort_index()\n",
    "\n",
    "# print avg columns level 0\n",
    "print(avg.columns.get_level_values(0))\n",
    "\n",
    "#Index(['Comprehensible', 'Comprehensible', 'Repetition', 'Repetition',\n",
    "      #  'Grammar', 'Grammar', 'Attribution', 'Attribution', 'Main ideas',\n",
    "      #  'Main ideas', 'Conciseness', 'Conciseness'],\n",
    "      # dtype='object')\n",
    "      \n",
    "# rename columns with shorter names\n",
    "avg.columns = pd.MultiIndex.from_tuples([\n",
    "    ('Compr.', 'mean'), ('Compr.', 'std'),\n",
    "    ('Repet.', 'mean'), ('Repet.', 'std'),\n",
    "    ('Gram.', 'mean'), ('Gram.', 'std'),\n",
    "    ('Attr.', 'mean'), ('Attr.', 'std'),\n",
    "    ('M. i.', 'mean'), ('M. i.', 'std'),\n",
    "    ('Conc.', 'mean'), ('Conc.', 'std')\n",
    "])\n",
    "\n",
    "\n",
    "style = avg.style\n",
    "style = style.format(\"{:.2f}\")\n",
    "\n",
    "# make std column smaller and lighter in latex\n",
    "idx = pd.IndexSlice\n",
    "# style = style.set_properties(subset=idx[:, ['std']], **{'font-size': '10pt', 'font-weight': 'lighter'})\n",
    "\n",
    "# bold the best value in each mean column\n",
    "style = style.highlight_max(axis=0, subset=idx[:, idx[:, 'mean']], props=\"bfseries: ;\")\n",
    "\n",
    "# make std columns smaller and add +/- sign\n",
    "style = style.set_properties(**{'color':'[HTML]{A0A1A3}'} ,subset=(idx[:], idx[:, 'std']))\n",
    "style = style.format(\"±{:.2f}\", subset=(idx[:], idx[:, 'std']))\n",
    "\n",
    "# drop level 1 of columns\n",
    "style = style.hide_columns(level=1)\n",
    "\n",
    "# to latex\n",
    "latex = style.to_latex(clines=\"skip-last;data\", hrules=True, multirow_align=\"l\", environment=\"table*\", caption=\"Estimated human judgment using the SEAHORSE metrics for all  baselines and our templated summaries compared against each document independently. M. i. stands for Main ideas, Attr. for Attribution, Gram. for Grammar, Compr. for Comprehensible, Conc. for Conciseness, and Repet. for Repetition. The best value in each column is in bold.\")\n",
    "display(style)\n",
    "\n",
    "# add resize box\n",
    "latex = latex.replace(\"\\\\begin{tabular}\", \"\\\\resizebox{\\\\textwidth}{!}{\\\\begin{tabular}\")\n",
    "latex = latex.replace(\"\\\\end{tabular}\", \"\\\\end{tabular}}\")\n",
    "\n",
    "\n",
    "# replace \n",
    "\n",
    "# write to file\n",
    "with open(TABLE_PATH / \"seahorse.tex\", \"w\") as f:\n",
    "    f.write(latex)\n",
    "\n",
    "\n",
    "\n",
    "\n",
    "\n",
    "\n",
    "# display(avg)\n",
    "# avg.set_index('Method')\""
   ]
  },
  {
   "cell_type": "code",
   "execution_count": null,
   "id": "cd4c7707-f1cd-4810-972b-1a69e0ec68ae",
   "metadata": {
    "tags": []
   },
   "outputs": [],
   "source": [
    "metric='SHMetric/Main ideas/proba_1'\n",
    "# white grid\n",
    "sns.set(style=\"whitegrid\")\n",
    "avg = df.groupby([\"metadata/method\", \"id\", \"metadata/reranking_model\", \"Generation Method\"]).mean().reset_index()\n",
    "avg = avg.sort_values(metric)\n",
    "\n",
    "# rename columns with human readable names\n",
    "avg = avg.rename(columns={\n",
    "    'metadata/method': 'Method',\n",
    "    'metadata/reranking_model': 'Reranking Model',\n",
    "    'Generation Method': 'Generation Method',\n",
    "    metric: 'Main Ideas'\n",
    "})\n",
    "\n",
    "\n",
    "\n",
    "g = sns.catplot(data=avg, y=\"Main Ideas\", x=\"Method\", hue=\"Reranking Model\", col=\"Generation Method\", kind=\"bar\")\n",
    "\n",
    "\n",
    "# get legend label and handle\n",
    "handles, labels = g._legend_data.values(), g._legend_data.keys()\n",
    "\n",
    "# set legend\n",
    "g._legend.remove()\n",
    "g.fig.legend(handles, labels, loc='upper center', ncol=2, fontsize=25, title_fontsize=25, title=\"Reranking Model\", bbox_to_anchor=(0.4, -0.3))\n",
    "\n",
    "\n",
    "# set title template \n",
    "g.set_titles(\"{col_name}\")\n",
    "\n",
    "# add hline at 0.215 for the baseline, on each axis\n",
    "for ax in g.axes.flat:\n",
    "    ax.axhline(0.215, ls='--', color='black', linewidth=5)\n",
    "    ax.set_xticklabels(ax.get_xticklabels(), rotation=30)\n",
    "    \n",
    "# make label bigger\n",
    "for ax in g.axes.flat:\n",
    "    ax.set_xlabel(\"\")\n",
    "    ax.set_ylabel(ax.get_ylabel(), fontsize=25, fontweight='bold')\n",
    "    ax.set_xticklabels(ax.get_xticklabels(), fontsize=25, fontweight='bold')\n",
    "    \n",
    "# make title bigger\n",
    "for ax in g.axes.flat:\n",
    "    ax.set_title(ax.get_title(), fontsize=25, fontweight='bold')\n",
    "    \n",
    "# add annotation for the hline on the first axis\n",
    "\n",
    "\n",
    "\n",
    "\n",
    "\n",
    "plt.xticks(rotation=30)\n",
    "\n",
    "# save figure\n",
    "g.savefig(FIGURE / \"seahorse_main_ideas.pdf\")\n",
    "\n",
    "\n",
    "\n"
   ]
  },
  {
   "cell_type": "code",
   "execution_count": null,
   "id": "f84773d4-f2b7-4db6-851f-4683d545345b",
   "metadata": {
    "tags": []
   },
   "outputs": [],
   "source": [
    "metric='SHMetric/Main ideas/proba_1'\n",
    "\n",
    "toplot = df.copy()\n",
    "toplot['metadata/reranking_model'] = toplot['metadata/reranking_model'].fillna('N/A')\n",
    "toplot['Generation Method'] = toplot['Generation Method'].fillna('N/A')\n",
    "\n",
    "toplot = toplot.groupby([\"metadata/method\", \"id\", \"Generation Method\", \"metadata/reranking_model\"]).mean()\n",
    "idx = toplot.groupby([\"metadata/method\", \"id\", \"Generation Method\"])[metric].idxmax()\n",
    "toplot = toplot.loc[idx].reset_index()\n",
    "toplot = toplot[~toplot['metadata/method'].str.contains('Lead')]\n",
    "\n",
    "toplot = toplot.sort_values(metric, ascending=True)\n",
    "order = toplot.groupby(\"metadata/method\").mean().sort_values(metric)\n",
    "\n",
    "\n",
    "display(toplot.groupby(\"metadata/method\").mean().sort_values(metric)[metric])\n",
    "\n",
    "sns.barplot(data=toplot, y=metric, x=\"metadata/method\", order=order.index)\n",
    "\n",
    "plt.xticks(rotation=45)"
   ]
  },
  {
   "cell_type": "code",
   "execution_count": null,
   "id": "47f15195-e60d-45f8-aac0-dc88eeea9577",
   "metadata": {
    "tags": []
   },
   "outputs": [],
   "source": [
    "metric='SHMetric/Conciseness/proba_1'\n",
    "\n",
    "toplot = df.copy()\n",
    "toplot['metadata/reranking_model'] = toplot['metadata/reranking_model'].fillna('N/A')\n",
    "toplot['Generation Method'] = toplot['Generation Method'].fillna('N/A')\n",
    "\n",
    "toplot = toplot.groupby([\"metadata/method\", \"id\", \"Generation Method\", \"metadata/reranking_model\"]).mean()\n",
    "idx = toplot.groupby([\"metadata/method\", \"id\", \"Generation Method\"])[metric].idxmax()\n",
    "toplot = toplot.loc[idx].reset_index()\n",
    "toplot = toplot[~toplot['metadata/method'].str.contains('Lead')]\n",
    "\n",
    "toplot = toplot.sort_values(metric, ascending=True)\n",
    "order = toplot.groupby(\"metadata/method\").mean().sort_values(metric)\n",
    "\n",
    "\n",
    "\n",
    "sns.barplot(data=toplot, y=metric, x=\"metadata/method\", order=order.index)\n",
    "\n",
    "plt.xticks(rotation=45)"
   ]
  },
  {
   "cell_type": "code",
   "execution_count": null,
   "id": "96b5d47b-f9d2-45bf-9284-844dedb24ce9",
   "metadata": {
    "tags": []
   },
   "outputs": [],
   "source": [
    "metric='SHMetric/Repetition/proba_1'\n",
    "\n",
    "toplot = df.copy()\n",
    "toplot['metadata/reranking_model'] = toplot['metadata/reranking_model'].fillna('N/A')\n",
    "toplot['Generation Method'] = toplot['Generation Method'].fillna('N/A')\n",
    "\n",
    "toplot = toplot.groupby([\"metadata/method\", \"id\", \"Generation Method\", \"metadata/reranking_model\"]).mean()\n",
    "idx = toplot.groupby([\"metadata/method\", \"id\", \"Generation Method\"])[metric].idxmax()\n",
    "toplot = toplot.loc[idx].reset_index()\n",
    "toplot = toplot[~toplot['metadata/method'].str.contains('Lead')]\n",
    "\n",
    "toplot = toplot.sort_values(metric, ascending=True)\n",
    "order = toplot.groupby(\"metadata/method\").mean().sort_values(metric)\n",
    "\n",
    "\n",
    "\n",
    "sns.barplot(data=toplot, y=metric, x=\"metadata/method\", order=order.index)\n",
    "\n",
    "plt.xticks(rotation=45)"
   ]
  },
  {
   "cell_type": "code",
   "execution_count": null,
   "id": "be9a5198-40e9-4b60-8ed4-6b2ea3a9683e",
   "metadata": {},
   "outputs": [],
   "source": [
    "metric='SHMetric/Repetition/proba_1'\n",
    "\n",
    "toplot = df.copy()\n",
    "toplot['metadata/reranking_model'] = toplot['metadata/reranking_model'].fillna('N/A')\n",
    "toplot['Generation Method'] = toplot['Generation Method'].fillna('N/A')\n",
    "\n",
    "toplot = toplot.groupby([\"metadata/method\", \"id\", \"Generation Method\", \"metadata/reranking_model\"]).mean()\n",
    "idx = toplot.groupby([\"metadata/method\", \"id\", \"Generation Method\"])[metric].idxmax()\n",
    "toplot = toplot.loc[idx].reset_index()\n",
    "toplot = toplot[~toplot['metadata/method'].str.contains('Lead')]\n",
    "\n",
    "toplot = toplot.sort_values(metric, ascending=True)\n",
    "order = toplot.groupby(\"metadata/method\").mean().sort_values(metric)\n",
    "\n",
    "\n",
    "\n",
    "sns.barplot(data=toplot, y=metric, x=\"metadata/method\", order=order.index)\n",
    "\n",
    "plt.xticks(rotation=45)"
   ]
  },
  {
   "cell_type": "code",
   "execution_count": null,
   "id": "6e52ec5a-3f68-4fdf-9828-205cd9b55e42",
   "metadata": {
    "tags": []
   },
   "outputs": [],
   "source": [
    "metric='SHMetric/Main ideas/proba_1'\n",
    "\n",
    "avg = df.groupby([\"metadata/method\", \"id\", \"N\"]).mean().reset_index()\n",
    "avg = avg.sort_values(metric)\n",
    "sns.barplot(data=avg[~avg['metadata/method'].str.contains('Lead')], y=metric, x=\"metadata/method\", hue='N')\n",
    "plt.xticks(rotation=45)"
   ]
  },
  {
   "cell_type": "code",
   "execution_count": null,
   "id": "a675a584-c80f-49ca-94e3-55d868c8b594",
   "metadata": {
    "tags": []
   },
   "outputs": [],
   "source": [
    "metric='SHMetric/Main ideas/proba_1'\n",
    "\n",
    "avg = df.groupby([\"metadata/method\", \"id\"]).mean().reset_index()\n",
    "avg = avg[~avg['metadata/method'].str.contains('Lead')].sort_values(metric, )\n",
    "sns.barplot(data=avg, y=metric, x=\"metadata/method\")\n",
    "plt.xticks(rotation=45)"
   ]
  },
  {
   "cell_type": "code",
   "execution_count": null,
   "id": "79f7e781-0e34-458d-826d-67c08109cef7",
   "metadata": {
    "tags": []
   },
   "outputs": [],
   "source": [
    "metric='rougeL'\n",
    "\n",
    "avg = df.groupby([\"metadata/method\", \"id\"]).mean().reset_index()\n",
    "avg = avg[~avg['metadata/method'].str.contains('Lead')].sort_values(metric, )\n",
    "sns.barplot(data=avg, y=metric, x=\"metadata/method\")\n",
    "plt.xticks(rotation=45)"
   ]
  },
  {
   "cell_type": "code",
   "execution_count": null,
   "id": "8b65306c-9f5e-4d71-910a-48de9a195534",
   "metadata": {
    "tags": []
   },
   "outputs": [],
   "source": [
    "df.columns"
   ]
  },
  {
   "cell_type": "code",
   "execution_count": null,
   "id": "cf6abd56-e9d1-4cea-bd01-d03046b56f3d",
   "metadata": {},
   "outputs": [],
   "source": []
  }
 ],
 "metadata": {
  "kernelspec": {
   "name": "python3",
   "language": "python",
   "display_name": "Python 3 (ipykernel)"
  },
  "language_info": {
   "codemirror_mode": {
    "name": "ipython",
    "version": 3
   },
   "file_extension": ".py",
   "mimetype": "text/x-python",
   "name": "python",
   "nbconvert_exporter": "python",
   "pygments_lexer": "ipython3",
   "version": "3.10.9"
  }
 },
 "nbformat": 4,
 "nbformat_minor": 5
}
